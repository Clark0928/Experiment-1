{
 "cells": [
  {
   "cell_type": "markdown",
   "id": "f15a4811-f7a8-4085-9b2a-33093d2962be",
   "metadata": {},
   "source": [
    "#### ALPHABET SOUP PROBLEM"
   ]
  },
  {
   "cell_type": "code",
   "execution_count": 27,
   "id": "fe1cde7e-872f-4f43-a80c-ff0342ee2d68",
   "metadata": {},
   "outputs": [
    {
     "name": "stdout",
     "output_type": "stream",
     "text": [
      "ehllo\n",
      "acehkr\n"
     ]
    }
   ],
   "source": [
    "def alphabet_soup(word):\n",
    "    print(''.join(sorted(word)))\n",
    "\n",
    "alphabet_soup(\"hello\")\n",
    "alphabet_soup(\"hacker\")"
   ]
  },
  {
   "cell_type": "markdown",
   "id": "5acbaedd-0b13-4a53-8b50-88154db3b965",
   "metadata": {},
   "source": [
    "#### EMOTICON PROBLEM"
   ]
  },
  {
   "cell_type": "code",
   "execution_count": 62,
   "id": "81edab13-a9fc-47a8-ab9d-f584ebe5c7dc",
   "metadata": {},
   "outputs": [
    {
     "name": "stdout",
     "output_type": "stream",
     "text": [
      "Make me :)\n",
      "I am >:(\n"
     ]
    }
   ],
   "source": [
    "def emotify(sentence):\n",
    "    words = sentence.split(' ')\n",
    "    emoticon = {\"smile\":\":)\", \"grin\":\":D\", \"sad\":\":((\", \"mad\":\">:(\"}\n",
    "    print(' '.join([emoticon.get(word, word) for word in words]))\n",
    "\n",
    "emotify(\"Make me smile\")\n",
    "emotify(\"I am mad\")"
   ]
  },
  {
   "cell_type": "markdown",
   "id": "1d7a4757-5e92-474b-ac84-11122a96b616",
   "metadata": {},
   "source": [
    "#### UNPACKING LIST PROBLEM"
   ]
  },
  {
   "cell_type": "code",
   "execution_count": 74,
   "id": "1993db70-e8fb-490d-9b46-0649519cb8ee",
   "metadata": {},
   "outputs": [
    {
     "name": "stdout",
     "output_type": "stream",
     "text": [
      "first: 1\tmiddle: [2, 3, 4, 5]\tlast: 6\n"
     ]
    }
   ],
   "source": [
    "lst = [1, 2, 3, 4, 5, 6]\n",
    "first = lst[0]\n",
    "middle = lst[1:-1]\n",
    "last = lst[-1]\n",
    "\n",
    "print(\"first: \" + str(first) + \"\\tmiddle: \" + str(middle) + \"\\tlast: \" + str(last))"
   ]
  },
  {
   "cell_type": "code",
   "execution_count": null,
   "id": "35374372-066b-401d-9540-4d3f5e5b6327",
   "metadata": {},
   "outputs": [],
   "source": []
  }
 ],
 "metadata": {
  "kernelspec": {
   "display_name": "Python 3 (ipykernel)",
   "language": "python",
   "name": "python3"
  },
  "language_info": {
   "codemirror_mode": {
    "name": "ipython",
    "version": 3
   },
   "file_extension": ".py",
   "mimetype": "text/x-python",
   "name": "python",
   "nbconvert_exporter": "python",
   "pygments_lexer": "ipython3",
   "version": "3.12.4"
  }
 },
 "nbformat": 4,
 "nbformat_minor": 5
}
